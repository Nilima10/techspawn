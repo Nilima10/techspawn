{
 "cells": [
  {
   "cell_type": "markdown",
   "metadata": {},
   "source": [
    "Que_1) Write a program which takes 2 digits, X,Y as input and generates 2-dimensional array."
   ]
  },
  {
   "cell_type": "code",
   "execution_count": 1,
   "metadata": {},
   "outputs": [
    {
     "name": "stdout",
     "output_type": "stream",
     "text": [
      "Enter first number: 3\n",
      "Enter second number: 5\n",
      "[[0, 0, 0, 0, 0], [0, 1, 2, 3, 4], [0, 2, 4, 6, 8]]\n"
     ]
    }
   ],
   "source": [
    "x_num = int(input(\"Enter first number: \"))\n",
    "y_num = int(input(\"Enter second number: \"))\n",
    "two_D_array = [[0 for y in range(y_num)] for x in range(x_num)]\n",
    "\n",
    "for x in range(x_num):\n",
    "    for y in range(y_num):\n",
    "        two_D_array[x][y] = x*y\n",
    "        \n",
    "print(two_D_array)"
   ]
  },
  {
   "cell_type": "code",
   "execution_count": null,
   "metadata": {},
   "outputs": [],
   "source": []
  },
  {
   "cell_type": "markdown",
   "metadata": {},
   "source": [
    "Que_2) Assume some email address like \"username@companyname.com\",now write a snippet that extracts the company name of a given email\n",
    "address."
   ]
  },
  {
   "cell_type": "code",
   "execution_count": 2,
   "metadata": {
    "scrolled": true
   },
   "outputs": [
    {
     "name": "stdout",
     "output_type": "stream",
     "text": [
      "Enter your email shubhamb@techspawn.com\n",
      "Company name is:  techspawn\n"
     ]
    }
   ],
   "source": [
    "email = input(\"Enter your email \")\n",
    "CompanyName = email.split('@')[1][:-4]\n",
    "print('Company name is: ', CompanyName)"
   ]
  },
  {
   "cell_type": "code",
   "execution_count": null,
   "metadata": {},
   "outputs": [],
   "source": []
  },
  {
   "cell_type": "markdown",
   "metadata": {},
   "source": [
    "Que_3). Write a code that accepts the 2 lists and generates the following\n",
    "result.\n",
    "Employee = [‘Amit’,’Manish’,’Mahi’,’Kirti’,’Mafin’]\n",
    "Salary = [20000,30000,20000,40000,25000]"
   ]
  },
  {
   "cell_type": "code",
   "execution_count": 3,
   "metadata": {},
   "outputs": [
    {
     "name": "stdout",
     "output_type": "stream",
     "text": [
      "{'Amit': 20000, 'Manish': 30000, 'Mahi': 20000, 'Kirti': 40000, 'Mafin': 25000}\n"
     ]
    }
   ],
   "source": [
    "Employee = ['Amit','Manish','Mahi','Kirti','Mafin']\n",
    "Salary = [20000,30000,20000,40000,25000]\n",
    "result = dict(zip(Employee, Salary))\n",
    "print(result)"
   ]
  },
  {
   "cell_type": "code",
   "execution_count": null,
   "metadata": {},
   "outputs": [],
   "source": []
  },
  {
   "cell_type": "markdown",
   "metadata": {},
   "source": [
    "Que_4) Write a code that generates the following pattern based on True or False conditions."
   ]
  },
  {
   "cell_type": "code",
   "execution_count": 6,
   "metadata": {},
   "outputs": [
    {
     "name": "stdout",
     "output_type": "stream",
     "text": [
      "Enter True or False: false\n",
      "********* \n",
      " *******  \n",
      "  *****   \n",
      "   ***    \n",
      "    *     \n"
     ]
    }
   ],
   "source": [
    "pat = eval(input(\"Enter True or False: \").title())\n",
    "if pat:\n",
    "    for i in range(1,10,2):\n",
    "        out = i*'*'\n",
    "        print(out.center(10))\n",
    "else:\n",
    "    for i in range(9,0,-2):\n",
    "        out = i*'*'\n",
    "        print(out.center(10))"
   ]
  },
  {
   "cell_type": "code",
   "execution_count": null,
   "metadata": {},
   "outputs": [],
   "source": []
  },
  {
   "cell_type": "markdown",
   "metadata": {},
   "source": [
    "Que_5) Write a snippet that resolves ancient Chinese puzzle:\n",
    "We count 35 heads and 94 legs among the chickens and rabbits in a farm. How many\n",
    "rabbits and how many chickens do we have?"
   ]
  },
  {
   "cell_type": "code",
   "execution_count": 7,
   "metadata": {},
   "outputs": [
    {
     "name": "stdout",
     "output_type": "stream",
     "text": [
      "(23, 12)\n"
     ]
    }
   ],
   "source": [
    "def solve(num_heads, num_legs):\n",
    "    ns = 'No solutions!'\n",
    "    for i in range(num_heads+1):\n",
    "        j = num_heads-i\n",
    "        if (2*i)+(4*j) == num_legs:\n",
    "            return i,j\n",
    "    return ns,ns\n",
    "num_heads = 35\n",
    "num_legs  = 94\n",
    "solutions = solve(num_heads,num_legs)\n",
    "print(solutions)\n"
   ]
  },
  {
   "cell_type": "code",
   "execution_count": null,
   "metadata": {},
   "outputs": [],
   "source": []
  }
 ],
 "metadata": {
  "kernelspec": {
   "display_name": "Python 3",
   "language": "python",
   "name": "python3"
  },
  "language_info": {
   "codemirror_mode": {
    "name": "ipython",
    "version": 3
   },
   "file_extension": ".py",
   "mimetype": "text/x-python",
   "name": "python",
   "nbconvert_exporter": "python",
   "pygments_lexer": "ipython3",
   "version": "3.7.4"
  }
 },
 "nbformat": 4,
 "nbformat_minor": 2
}
